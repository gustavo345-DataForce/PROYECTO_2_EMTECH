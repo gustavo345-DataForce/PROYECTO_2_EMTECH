{
 "cells": [
  {
   "cell_type": "markdown",
   "id": "820c9f2b-4da2-497f-90bd-cb15338c1029",
   "metadata": {},
   "source": [
    "                                         "
   ]
  },
  {
   "cell_type": "markdown",
   "id": "98858a6c-09c5-4e25-86eb-a8908a74616c",
   "metadata": {},
   "source": [
    "                                        SEGUNDO PROYECTO DE EMTECH\n",
    "                                               PROYECTO 2\n",
    "                                         GUSTAVO MÚZQUIZ RODRÍGUEZ\n",
    "                                       gustavo.muzquiz@upaep.edu.mx\n",
    "                          [https://github.com/gustavo345-DataForce/PROYECTO_2_EMTECH]        "
   ]
  },
  {
   "cell_type": "code",
   "execution_count": 65,
   "id": "d210d451-15a0-4948-ba3e-b43b4024c821",
   "metadata": {},
   "outputs": [
    {
     "data": {
      "image/jpeg": "[encoded data removed]",
      "text/plain": [
       "<IPython.core.display.Image object>"
      ]
     },
     "execution_count": 65,
     "metadata": {},
     "output_type": "execute_result"
    }
   ],
   "source": [
    "from IPython.display import Image\n",
    "Image(\"D:\\Descargas\\EMTECH\\exportimport.jpg\")"
   ]
  },
  {
   "cell_type": "markdown",
   "id": "52660d55-dd0f-4d37-a074-40c329d6606f",
   "metadata": {},
   "source": [
    "Índice:\n",
    "\n",
    "1)Introducción\n",
    "2)Analis de datos\n",
    "3)Estrategia\n",
    "4)Conclusiones"
   ]
  },
  {
   "cell_type": "markdown",
   "id": "a86e0c40-2d7a-428a-8e56-a7b4201f6489",
   "metadata": {},
   "source": [
    "Introducción\n",
    "\n",
    "El presente análisis realiza una propuesta que permita enfocar las prioridades de la estrategia operativa 2021; para ello, se plantea analizar la viabilidad de 3 opciones de enfoque: \n",
    "\n",
    "                 1)rutas de importación y exportación\n",
    "                 2)medio de transporte utlizado \n",
    "                 3)valor total de importaciones y exportaciones\n",
    "                 \n",
    "Considerando el data analyst se eligirá cúal de las opciones de la empresa debe ser la más adecuada para que pueda ser, en su estrategia operativa, financieramente solvente. Esto significa brindar áreas de oportunidad a la empresa para que pueda fortalecerse económicamente de tal forma que pueda operar eficientemente, consolidaando su rentabilidad económica en los mercados financieros nacionales e internacionales. "
   ]
  },
  {
   "cell_type": "markdown",
   "id": "d67fd8ff-0c50-48a1-b2f0-ee9e5b205ac3",
   "metadata": {},
   "source": [
    "Primeramente empezamos cargando la base de datos"
   ]
  },
  {
   "cell_type": "code",
   "execution_count": 3,
   "id": "6538a88f-f9be-4090-97d6-9c9115df1b45",
   "metadata": {},
   "outputs": [],
   "source": [
    "import pandas as pd\n",
    "pd.plotting.register_matplotlib_converters()\n",
    "import matplotlib.pyplot as plt\n",
    "%matplotlib inline\n",
    "import seaborn as sns\n",
    "\n",
    "ruta = 'synergy_logistics_database.csv'\n",
    "datos = pd.read_csv(ruta, index_col=\"register_id\")"
   ]
  },
  {
   "cell_type": "markdown",
   "id": "822cc812-354c-4458-b85a-8c133762e80b",
   "metadata": {},
   "source": [
    "Si empezamos a explorar un poco la base de datos. "
   ]
  },
  {
   "cell_type": "code",
   "execution_count": 4,
   "id": "803a4280-2eec-46ec-bf85-47631bc2e1d4",
   "metadata": {},
   "outputs": [
    {
     "data": {
      "text/html": [
       "<div>\n",
       "<style scoped>\n",
       "    .dataframe tbody tr th:only-of-type {\n",
       "        vertical-align: middle;\n",
       "    }\n",
       "\n",
       "    .dataframe tbody tr th {\n",
       "        vertical-align: top;\n",
       "    }\n",
       "\n",
       "    .dataframe thead th {\n",
       "        text-align: right;\n",
       "    }\n",
       "</style>\n",
       "<table border=\"1\" class=\"dataframe\">\n",
       "  <thead>\n",
       "    <tr style=\"text-align: right;\">\n",
       "      <th></th>\n",
       "      <th>direction</th>\n",
       "      <th>origin</th>\n",
       "      <th>destination</th>\n",
       "      <th>year</th>\n",
       "      <th>date</th>\n",
       "      <th>product</th>\n",
       "      <th>transport_mode</th>\n",
       "      <th>company_name</th>\n",
       "      <th>total_value</th>\n",
       "    </tr>\n",
       "    <tr>\n",
       "      <th>register_id</th>\n",
       "      <th></th>\n",
       "      <th></th>\n",
       "      <th></th>\n",
       "      <th></th>\n",
       "      <th></th>\n",
       "      <th></th>\n",
       "      <th></th>\n",
       "      <th></th>\n",
       "      <th></th>\n",
       "    </tr>\n",
       "  </thead>\n",
       "  <tbody>\n",
       "    <tr>\n",
       "      <th>1</th>\n",
       "      <td>Exports</td>\n",
       "      <td>Japan</td>\n",
       "      <td>China</td>\n",
       "      <td>2015</td>\n",
       "      <td>31/01/15</td>\n",
       "      <td>Cars</td>\n",
       "      <td>Sea</td>\n",
       "      <td>Honda</td>\n",
       "      <td>33000000</td>\n",
       "    </tr>\n",
       "    <tr>\n",
       "      <th>2</th>\n",
       "      <td>Exports</td>\n",
       "      <td>Japan</td>\n",
       "      <td>China</td>\n",
       "      <td>2015</td>\n",
       "      <td>01/02/15</td>\n",
       "      <td>Cars</td>\n",
       "      <td>Sea</td>\n",
       "      <td>Honda</td>\n",
       "      <td>16000000</td>\n",
       "    </tr>\n",
       "    <tr>\n",
       "      <th>3</th>\n",
       "      <td>Exports</td>\n",
       "      <td>Japan</td>\n",
       "      <td>China</td>\n",
       "      <td>2015</td>\n",
       "      <td>02/02/15</td>\n",
       "      <td>Cars</td>\n",
       "      <td>Sea</td>\n",
       "      <td>Honda</td>\n",
       "      <td>29000000</td>\n",
       "    </tr>\n",
       "    <tr>\n",
       "      <th>4</th>\n",
       "      <td>Exports</td>\n",
       "      <td>Japan</td>\n",
       "      <td>China</td>\n",
       "      <td>2015</td>\n",
       "      <td>03/02/15</td>\n",
       "      <td>Cars</td>\n",
       "      <td>Sea</td>\n",
       "      <td>Honda</td>\n",
       "      <td>14000000</td>\n",
       "    </tr>\n",
       "    <tr>\n",
       "      <th>5</th>\n",
       "      <td>Exports</td>\n",
       "      <td>Japan</td>\n",
       "      <td>China</td>\n",
       "      <td>2015</td>\n",
       "      <td>04/02/15</td>\n",
       "      <td>Cars</td>\n",
       "      <td>Sea</td>\n",
       "      <td>Honda</td>\n",
       "      <td>17000000</td>\n",
       "    </tr>\n",
       "  </tbody>\n",
       "</table>\n",
       "</div>"
      ],
      "text/plain": [
       "            direction origin destination  year      date product  \\\n",
       "register_id                                                        \n",
       "1             Exports  Japan       China  2015  31/01/15    Cars   \n",
       "2             Exports  Japan       China  2015  01/02/15    Cars   \n",
       "3             Exports  Japan       China  2015  02/02/15    Cars   \n",
       "4             Exports  Japan       China  2015  03/02/15    Cars   \n",
       "5             Exports  Japan       China  2015  04/02/15    Cars   \n",
       "\n",
       "            transport_mode company_name  total_value  \n",
       "register_id                                           \n",
       "1                      Sea        Honda     33000000  \n",
       "2                      Sea        Honda     16000000  \n",
       "3                      Sea        Honda     29000000  \n",
       "4                      Sea        Honda     14000000  \n",
       "5                      Sea        Honda     17000000  "
      ]
     },
     "execution_count": 4,
     "metadata": {},
     "output_type": "execute_result"
    }
   ],
   "source": [
    "datos.head()"
   ]
  },
  {
   "cell_type": "code",
   "execution_count": 5,
   "id": "c6e6ef37-4027-468e-8e32-adf27a384377",
   "metadata": {},
   "outputs": [
    {
     "data": {
      "text/html": [
       "<div>\n",
       "<style scoped>\n",
       "    .dataframe tbody tr th:only-of-type {\n",
       "        vertical-align: middle;\n",
       "    }\n",
       "\n",
       "    .dataframe tbody tr th {\n",
       "        vertical-align: top;\n",
       "    }\n",
       "\n",
       "    .dataframe thead th {\n",
       "        text-align: right;\n",
       "    }\n",
       "</style>\n",
       "<table border=\"1\" class=\"dataframe\">\n",
       "  <thead>\n",
       "    <tr style=\"text-align: right;\">\n",
       "      <th></th>\n",
       "      <th>direction</th>\n",
       "      <th>origin</th>\n",
       "      <th>destination</th>\n",
       "      <th>year</th>\n",
       "      <th>date</th>\n",
       "      <th>product</th>\n",
       "      <th>transport_mode</th>\n",
       "      <th>company_name</th>\n",
       "      <th>total_value</th>\n",
       "    </tr>\n",
       "    <tr>\n",
       "      <th>register_id</th>\n",
       "      <th></th>\n",
       "      <th></th>\n",
       "      <th></th>\n",
       "      <th></th>\n",
       "      <th></th>\n",
       "      <th></th>\n",
       "      <th></th>\n",
       "      <th></th>\n",
       "      <th></th>\n",
       "    </tr>\n",
       "  </thead>\n",
       "  <tbody>\n",
       "    <tr>\n",
       "      <th>19052</th>\n",
       "      <td>Imports</td>\n",
       "      <td>Japan</td>\n",
       "      <td>Singapore</td>\n",
       "      <td>2020</td>\n",
       "      <td>27/06/20</td>\n",
       "      <td>Gas turbines</td>\n",
       "      <td>Sea</td>\n",
       "      <td>Union Energy Co</td>\n",
       "      <td>1000000</td>\n",
       "    </tr>\n",
       "    <tr>\n",
       "      <th>19053</th>\n",
       "      <td>Imports</td>\n",
       "      <td>Malaysia</td>\n",
       "      <td>Singapore</td>\n",
       "      <td>2020</td>\n",
       "      <td>28/06/20</td>\n",
       "      <td>Gas turbines</td>\n",
       "      <td>Sea</td>\n",
       "      <td>Union Energy Co</td>\n",
       "      <td>2000000</td>\n",
       "    </tr>\n",
       "    <tr>\n",
       "      <th>19054</th>\n",
       "      <td>Imports</td>\n",
       "      <td>Malaysia</td>\n",
       "      <td>Singapore</td>\n",
       "      <td>2020</td>\n",
       "      <td>29/06/20</td>\n",
       "      <td>Gas turbines</td>\n",
       "      <td>Sea</td>\n",
       "      <td>Union Energy Co</td>\n",
       "      <td>33000000</td>\n",
       "    </tr>\n",
       "    <tr>\n",
       "      <th>19055</th>\n",
       "      <td>Imports</td>\n",
       "      <td>Malaysia</td>\n",
       "      <td>Singapore</td>\n",
       "      <td>2020</td>\n",
       "      <td>30/06/20</td>\n",
       "      <td>Gas turbines</td>\n",
       "      <td>Sea</td>\n",
       "      <td>Union Energy Co</td>\n",
       "      <td>13000000</td>\n",
       "    </tr>\n",
       "    <tr>\n",
       "      <th>19056</th>\n",
       "      <td>Imports</td>\n",
       "      <td>Malaysia</td>\n",
       "      <td>Singapore</td>\n",
       "      <td>2020</td>\n",
       "      <td>01/07/20</td>\n",
       "      <td>Gas turbines</td>\n",
       "      <td>Sea</td>\n",
       "      <td>Union Energy Co</td>\n",
       "      <td>30000000</td>\n",
       "    </tr>\n",
       "  </tbody>\n",
       "</table>\n",
       "</div>"
      ],
      "text/plain": [
       "            direction    origin destination  year      date       product  \\\n",
       "register_id                                                                 \n",
       "19052         Imports     Japan   Singapore  2020  27/06/20  Gas turbines   \n",
       "19053         Imports  Malaysia   Singapore  2020  28/06/20  Gas turbines   \n",
       "19054         Imports  Malaysia   Singapore  2020  29/06/20  Gas turbines   \n",
       "19055         Imports  Malaysia   Singapore  2020  30/06/20  Gas turbines   \n",
       "19056         Imports  Malaysia   Singapore  2020  01/07/20  Gas turbines   \n",
       "\n",
       "            transport_mode     company_name  total_value  \n",
       "register_id                                               \n",
       "19052                  Sea  Union Energy Co      1000000  \n",
       "19053                  Sea  Union Energy Co      2000000  \n",
       "19054                  Sea  Union Energy Co     33000000  \n",
       "19055                  Sea  Union Energy Co     13000000  \n",
       "19056                  Sea  Union Energy Co     30000000  "
      ]
     },
     "execution_count": 5,
     "metadata": {},
     "output_type": "execute_result"
    }
   ],
   "source": [
    "datos.tail()"
   ]
  },
  {
   "cell_type": "markdown",
   "id": "fce25304-1de1-4cc0-ae85-d24a45a90224",
   "metadata": {},
   "source": [
    "Podemos observar que la base de datos contiene los elementos necesarios para poder hacer una estudio de datos profundo para tomar las mejores decisiones:\n",
    "\n",
    "             1)el id del registro\n",
    "             2)la clasifación de exportación o importación\n",
    "             3)el destino de origen\n",
    "             4)año\n",
    "             5)fecha\n",
    "             6)producto\n",
    "             7)medio de transporte por el cual fue trasladado\n",
    "             8)el nombre de la compañía que realizó la operación\n",
    "             9)el valor total de la operación\n",
    "             \n",
    "Tambien sabemos que hay, en toda la base de datos, 19056 datos.\n",
    "Por ejmplo, podemos, confirmar la anterior información con el siguientes codigo:"
   ]
  },
  {
   "cell_type": "code",
   "execution_count": 6,
   "id": "f519ce9f-01bd-4dc3-b321-0931e66c7552",
   "metadata": {},
   "outputs": [
    {
     "name": "stdout",
     "output_type": "stream",
     "text": [
      "<class 'pandas.core.frame.DataFrame'>\n",
      "Int64Index: 19056 entries, 1 to 19056\n",
      "Data columns (total 9 columns):\n",
      " #   Column          Non-Null Count  Dtype \n",
      "---  ------          --------------  ----- \n",
      " 0   direction       19056 non-null  object\n",
      " 1   origin          19056 non-null  object\n",
      " 2   destination     19056 non-null  object\n",
      " 3   year            19056 non-null  int64 \n",
      " 4   date            19056 non-null  object\n",
      " 5   product         19056 non-null  object\n",
      " 6   transport_mode  19056 non-null  object\n",
      " 7   company_name    19056 non-null  object\n",
      " 8   total_value     19056 non-null  int64 \n",
      "dtypes: int64(2), object(7)\n",
      "memory usage: 1.5+ MB\n"
     ]
    }
   ],
   "source": [
    "datos.info()"
   ]
  },
  {
   "cell_type": "markdown",
   "id": "3a369d89-9fe8-4ae0-bb04-17252fa4fe8e",
   "metadata": {},
   "source": [
    "En síntesis, podemos obtener la estadística descriptiva de cada variable dentro de la base de datos.Pero dado que hay variables no númericas, como tal no podríamos obtener un resultado de la misma naturaleza. La estadística descriptiva del año, nos indica que el año promedio en donde se capturó la información que tenemos fue en el 2017."
   ]
  },
  {
   "cell_type": "code",
   "execution_count": 21,
   "id": "5f242ea9-b911-452f-ad89-ce3e7c119e23",
   "metadata": {},
   "outputs": [
    {
     "data": {
      "text/html": [
       "<div>\n",
       "<style scoped>\n",
       "    .dataframe tbody tr th:only-of-type {\n",
       "        vertical-align: middle;\n",
       "    }\n",
       "\n",
       "    .dataframe tbody tr th {\n",
       "        vertical-align: top;\n",
       "    }\n",
       "\n",
       "    .dataframe thead th {\n",
       "        text-align: right;\n",
       "    }\n",
       "</style>\n",
       "<table border=\"1\" class=\"dataframe\">\n",
       "  <thead>\n",
       "    <tr style=\"text-align: right;\">\n",
       "      <th></th>\n",
       "      <th>year</th>\n",
       "      <th>total_value</th>\n",
       "    </tr>\n",
       "  </thead>\n",
       "  <tbody>\n",
       "    <tr>\n",
       "      <th>count</th>\n",
       "      <td>19056.000000</td>\n",
       "      <td>1.905600e+04</td>\n",
       "    </tr>\n",
       "    <tr>\n",
       "      <th>mean</th>\n",
       "      <td>2017.496327</td>\n",
       "      <td>1.131881e+07</td>\n",
       "    </tr>\n",
       "    <tr>\n",
       "      <th>std</th>\n",
       "      <td>1.706975</td>\n",
       "      <td>1.536656e+07</td>\n",
       "    </tr>\n",
       "    <tr>\n",
       "      <th>min</th>\n",
       "      <td>2015.000000</td>\n",
       "      <td>0.000000e+00</td>\n",
       "    </tr>\n",
       "    <tr>\n",
       "      <th>25%</th>\n",
       "      <td>2016.000000</td>\n",
       "      <td>6.400000e+04</td>\n",
       "    </tr>\n",
       "    <tr>\n",
       "      <th>50%</th>\n",
       "      <td>2017.000000</td>\n",
       "      <td>5.000000e+06</td>\n",
       "    </tr>\n",
       "    <tr>\n",
       "      <th>75%</th>\n",
       "      <td>2019.000000</td>\n",
       "      <td>1.600000e+07</td>\n",
       "    </tr>\n",
       "    <tr>\n",
       "      <th>max</th>\n",
       "      <td>2020.000000</td>\n",
       "      <td>2.850000e+08</td>\n",
       "    </tr>\n",
       "  </tbody>\n",
       "</table>\n",
       "</div>"
      ],
      "text/plain": [
       "               year   total_value\n",
       "count  19056.000000  1.905600e+04\n",
       "mean    2017.496327  1.131881e+07\n",
       "std        1.706975  1.536656e+07\n",
       "min     2015.000000  0.000000e+00\n",
       "25%     2016.000000  6.400000e+04\n",
       "50%     2017.000000  5.000000e+06\n",
       "75%     2019.000000  1.600000e+07\n",
       "max     2020.000000  2.850000e+08"
      ]
     },
     "execution_count": 21,
     "metadata": {},
     "output_type": "execute_result"
    }
   ],
   "source": [
    "datos.describe()"
   ]
  },
  {
   "cell_type": "markdown",
   "id": "e3d83241-617f-4be9-a91f-93ea01f97cb9",
   "metadata": {},
   "source": [
    "Si queremos ver la estadística descriptiva de por ejemplo, el valor de las importaciones y de las importaciones (es decir, de ambas operaciones), tenemos que:"
   ]
  },
  {
   "cell_type": "code",
   "execution_count": 22,
   "id": "19e796a4-e7dd-4d87-9d47-d70766b1a848",
   "metadata": {},
   "outputs": [
    {
     "data": {
      "text/plain": [
       "count    1.905600e+04\n",
       "mean     1.131881e+07\n",
       "std      1.536656e+07\n",
       "min      0.000000e+00\n",
       "25%      6.400000e+04\n",
       "50%      5.000000e+06\n",
       "75%      1.600000e+07\n",
       "max      2.850000e+08\n",
       "Name: total_value, dtype: float64"
      ]
     },
     "execution_count": 22,
     "metadata": {},
     "output_type": "execute_result"
    }
   ],
   "source": [
    "datos['total_value'].describe()"
   ]
  },
  {
   "cell_type": "markdown",
   "id": "cfbc1ee8-8c9a-41f2-bf29-25fe33e2fd72",
   "metadata": {},
   "source": [
    "Una vez que revisamos la base de datos y tenemos un contexto sobre la situación operativa de la empresa, podemos empezar a desarrollar los ejes de análisis antes planteados. "
   ]
  },
  {
   "cell_type": "markdown",
   "id": "68ffc521-ed10-466e-a5c7-8c2bfce5ac12",
   "metadata": {},
   "source": [
    "OBTENIENDO LAS 10 RUTAS MÁS DEMANDADAS ACORDE CON LOS FLUJOS DE IMPORTACIONES Y EXPORTACIÓN"
   ]
  },
  {
   "cell_type": "code",
   "execution_count": 7,
   "id": "68554f00-2a7b-4fd3-8983-1b40b46f8693",
   "metadata": {},
   "outputs": [],
   "source": [
    "importaciones= datos['direction']==\"Imports\""
   ]
  },
  {
   "cell_type": "code",
   "execution_count": 8,
   "id": "25bd0a6a-2919-442e-827a-f349d6fc2703",
   "metadata": {},
   "outputs": [],
   "source": [
    "exportaciones= datos['direction']==\"Exports\""
   ]
  },
  {
   "cell_type": "code",
   "execution_count": 9,
   "id": "d8c902bd-9888-43e8-90d0-dd48d0800e82",
   "metadata": {},
   "outputs": [],
   "source": [
    "volumen = datos['total_value']"
   ]
  },
  {
   "cell_type": "code",
   "execution_count": 10,
   "id": "35541a46-7fca-4461-9ad0-8690232f0309",
   "metadata": {},
   "outputs": [],
   "source": [
    "rutas = datos['transport_mode']"
   ]
  },
  {
   "cell_type": "code",
   "execution_count": 11,
   "id": "d5d8f561-e1db-4e2d-b4f3-46062f8977af",
   "metadata": {},
   "outputs": [],
   "source": [
    "origen = datos['origin']"
   ]
  },
  {
   "cell_type": "code",
   "execution_count": 12,
   "id": "6b67f56a-c151-478d-be65-a1080ac88bbb",
   "metadata": {},
   "outputs": [],
   "source": [
    "destino = datos['destination']"
   ]
  },
  {
   "cell_type": "code",
   "execution_count": 13,
   "id": "3a911248-0e39-4181-a77f-f46a3b47e775",
   "metadata": {},
   "outputs": [],
   "source": [
    "df = pd.DataFrame()"
   ]
  },
  {
   "cell_type": "code",
   "execution_count": 14,
   "id": "0bb04794-dedd-428b-b7da-4cdcca9c6dc7",
   "metadata": {},
   "outputs": [
    {
     "name": "stdout",
     "output_type": "stream",
     "text": [
      "             Importaciones  Exportaciones rutas    origen    destino  \\\n",
      "register_id                                                            \n",
      "1                    False           True   Sea     Japan      China   \n",
      "2                    False           True   Sea     Japan      China   \n",
      "3                    False           True   Sea     Japan      China   \n",
      "4                    False           True   Sea     Japan      China   \n",
      "5                    False           True   Sea     Japan      China   \n",
      "...                    ...            ...   ...       ...        ...   \n",
      "19052                 True          False   Sea     Japan  Singapore   \n",
      "19053                 True          False   Sea  Malaysia  Singapore   \n",
      "19054                 True          False   Sea  Malaysia  Singapore   \n",
      "19055                 True          False   Sea  Malaysia  Singapore   \n",
      "19056                 True          False   Sea  Malaysia  Singapore   \n",
      "\n",
      "             valor total  \n",
      "register_id               \n",
      "1               33000000  \n",
      "2               16000000  \n",
      "3               29000000  \n",
      "4               14000000  \n",
      "5               17000000  \n",
      "...                  ...  \n",
      "19052            1000000  \n",
      "19053            2000000  \n",
      "19054           33000000  \n",
      "19055           13000000  \n",
      "19056           30000000  \n",
      "\n",
      "[19056 rows x 6 columns]\n"
     ]
    }
   ],
   "source": [
    "df[\"Importaciones\"]= importaciones\n",
    "df[\"Exportaciones\"]= exportaciones\n",
    "df[\"rutas\"]= rutas\n",
    "df[\"origen\"]= origen\n",
    "df[\"destino\"]= destino\n",
    "df[\"valor total\"] = volumen\n",
    "print(df)"
   ]
  },
  {
   "cell_type": "code",
   "execution_count": 15,
   "id": "ff136756-88a8-474d-bb0b-62a3f7689cb0",
   "metadata": {},
   "outputs": [
    {
     "data": {
      "text/html": [
       "<div>\n",
       "<style scoped>\n",
       "    .dataframe tbody tr th:only-of-type {\n",
       "        vertical-align: middle;\n",
       "    }\n",
       "\n",
       "    .dataframe tbody tr th {\n",
       "        vertical-align: top;\n",
       "    }\n",
       "\n",
       "    .dataframe thead th {\n",
       "        text-align: right;\n",
       "    }\n",
       "</style>\n",
       "<table border=\"1\" class=\"dataframe\">\n",
       "  <thead>\n",
       "    <tr style=\"text-align: right;\">\n",
       "      <th></th>\n",
       "      <th>Importaciones</th>\n",
       "      <th>Exportaciones</th>\n",
       "      <th>rutas</th>\n",
       "      <th>origen</th>\n",
       "      <th>destino</th>\n",
       "      <th>valor total</th>\n",
       "    </tr>\n",
       "    <tr>\n",
       "      <th>register_id</th>\n",
       "      <th></th>\n",
       "      <th></th>\n",
       "      <th></th>\n",
       "      <th></th>\n",
       "      <th></th>\n",
       "      <th></th>\n",
       "    </tr>\n",
       "  </thead>\n",
       "  <tbody>\n",
       "    <tr>\n",
       "      <th>1</th>\n",
       "      <td>False</td>\n",
       "      <td>True</td>\n",
       "      <td>Sea</td>\n",
       "      <td>Japan</td>\n",
       "      <td>China</td>\n",
       "      <td>33000000</td>\n",
       "    </tr>\n",
       "    <tr>\n",
       "      <th>2</th>\n",
       "      <td>False</td>\n",
       "      <td>True</td>\n",
       "      <td>Sea</td>\n",
       "      <td>Japan</td>\n",
       "      <td>China</td>\n",
       "      <td>16000000</td>\n",
       "    </tr>\n",
       "    <tr>\n",
       "      <th>3</th>\n",
       "      <td>False</td>\n",
       "      <td>True</td>\n",
       "      <td>Sea</td>\n",
       "      <td>Japan</td>\n",
       "      <td>China</td>\n",
       "      <td>29000000</td>\n",
       "    </tr>\n",
       "    <tr>\n",
       "      <th>4</th>\n",
       "      <td>False</td>\n",
       "      <td>True</td>\n",
       "      <td>Sea</td>\n",
       "      <td>Japan</td>\n",
       "      <td>China</td>\n",
       "      <td>14000000</td>\n",
       "    </tr>\n",
       "    <tr>\n",
       "      <th>5</th>\n",
       "      <td>False</td>\n",
       "      <td>True</td>\n",
       "      <td>Sea</td>\n",
       "      <td>Japan</td>\n",
       "      <td>China</td>\n",
       "      <td>17000000</td>\n",
       "    </tr>\n",
       "  </tbody>\n",
       "</table>\n",
       "</div>"
      ],
      "text/plain": [
       "             Importaciones  Exportaciones rutas origen destino  valor total\n",
       "register_id                                                                \n",
       "1                    False           True   Sea  Japan   China     33000000\n",
       "2                    False           True   Sea  Japan   China     16000000\n",
       "3                    False           True   Sea  Japan   China     29000000\n",
       "4                    False           True   Sea  Japan   China     14000000\n",
       "5                    False           True   Sea  Japan   China     17000000"
      ]
     },
     "execution_count": 15,
     "metadata": {},
     "output_type": "execute_result"
    }
   ],
   "source": [
    "df.head()"
   ]
  },
  {
   "cell_type": "code",
   "execution_count": 16,
   "id": "cecfd655-1e2b-4528-8864-f56b22d38831",
   "metadata": {},
   "outputs": [
    {
     "data": {
      "text/html": [
       "<div>\n",
       "<style scoped>\n",
       "    .dataframe tbody tr th:only-of-type {\n",
       "        vertical-align: middle;\n",
       "    }\n",
       "\n",
       "    .dataframe tbody tr th {\n",
       "        vertical-align: top;\n",
       "    }\n",
       "\n",
       "    .dataframe thead th {\n",
       "        text-align: right;\n",
       "    }\n",
       "</style>\n",
       "<table border=\"1\" class=\"dataframe\">\n",
       "  <thead>\n",
       "    <tr style=\"text-align: right;\">\n",
       "      <th></th>\n",
       "      <th>Importaciones</th>\n",
       "      <th>Exportaciones</th>\n",
       "      <th>rutas</th>\n",
       "      <th>origen</th>\n",
       "      <th>destino</th>\n",
       "      <th>valor total</th>\n",
       "    </tr>\n",
       "    <tr>\n",
       "      <th>register_id</th>\n",
       "      <th></th>\n",
       "      <th></th>\n",
       "      <th></th>\n",
       "      <th></th>\n",
       "      <th></th>\n",
       "      <th></th>\n",
       "    </tr>\n",
       "  </thead>\n",
       "  <tbody>\n",
       "    <tr>\n",
       "      <th>16173</th>\n",
       "      <td>True</td>\n",
       "      <td>False</td>\n",
       "      <td>Sea</td>\n",
       "      <td>China</td>\n",
       "      <td>United Arab Emirates</td>\n",
       "      <td>85000000</td>\n",
       "    </tr>\n",
       "    <tr>\n",
       "      <th>16298</th>\n",
       "      <td>True</td>\n",
       "      <td>False</td>\n",
       "      <td>Road</td>\n",
       "      <td>China</td>\n",
       "      <td>Thailand</td>\n",
       "      <td>78000000</td>\n",
       "    </tr>\n",
       "    <tr>\n",
       "      <th>16320</th>\n",
       "      <td>True</td>\n",
       "      <td>False</td>\n",
       "      <td>Road</td>\n",
       "      <td>China</td>\n",
       "      <td>Thailand</td>\n",
       "      <td>75000000</td>\n",
       "    </tr>\n",
       "    <tr>\n",
       "      <th>15891</th>\n",
       "      <td>True</td>\n",
       "      <td>False</td>\n",
       "      <td>Sea</td>\n",
       "      <td>Spain</td>\n",
       "      <td>Mexico</td>\n",
       "      <td>73000000</td>\n",
       "    </tr>\n",
       "    <tr>\n",
       "      <th>16105</th>\n",
       "      <td>True</td>\n",
       "      <td>False</td>\n",
       "      <td>Sea</td>\n",
       "      <td>South Korea</td>\n",
       "      <td>United Arab Emirates</td>\n",
       "      <td>69000000</td>\n",
       "    </tr>\n",
       "    <tr>\n",
       "      <th>16276</th>\n",
       "      <td>True</td>\n",
       "      <td>False</td>\n",
       "      <td>Sea</td>\n",
       "      <td>Singapore</td>\n",
       "      <td>Thailand</td>\n",
       "      <td>69000000</td>\n",
       "    </tr>\n",
       "    <tr>\n",
       "      <th>16259</th>\n",
       "      <td>True</td>\n",
       "      <td>False</td>\n",
       "      <td>Rail</td>\n",
       "      <td>Malaysia</td>\n",
       "      <td>Thailand</td>\n",
       "      <td>69000000</td>\n",
       "    </tr>\n",
       "    <tr>\n",
       "      <th>16256</th>\n",
       "      <td>True</td>\n",
       "      <td>False</td>\n",
       "      <td>Rail</td>\n",
       "      <td>Malaysia</td>\n",
       "      <td>Thailand</td>\n",
       "      <td>68000000</td>\n",
       "    </tr>\n",
       "    <tr>\n",
       "      <th>15989</th>\n",
       "      <td>True</td>\n",
       "      <td>False</td>\n",
       "      <td>Sea</td>\n",
       "      <td>China</td>\n",
       "      <td>United Arab Emirates</td>\n",
       "      <td>67000000</td>\n",
       "    </tr>\n",
       "    <tr>\n",
       "      <th>16243</th>\n",
       "      <td>True</td>\n",
       "      <td>False</td>\n",
       "      <td>Rail</td>\n",
       "      <td>Malaysia</td>\n",
       "      <td>Thailand</td>\n",
       "      <td>66000000</td>\n",
       "    </tr>\n",
       "  </tbody>\n",
       "</table>\n",
       "</div>"
      ],
      "text/plain": [
       "             Importaciones  Exportaciones rutas       origen  \\\n",
       "register_id                                                    \n",
       "16173                 True          False   Sea        China   \n",
       "16298                 True          False  Road        China   \n",
       "16320                 True          False  Road        China   \n",
       "15891                 True          False   Sea        Spain   \n",
       "16105                 True          False   Sea  South Korea   \n",
       "16276                 True          False   Sea    Singapore   \n",
       "16259                 True          False  Rail     Malaysia   \n",
       "16256                 True          False  Rail     Malaysia   \n",
       "15989                 True          False   Sea        China   \n",
       "16243                 True          False  Rail     Malaysia   \n",
       "\n",
       "                          destino  valor total  \n",
       "register_id                                     \n",
       "16173        United Arab Emirates     85000000  \n",
       "16298                    Thailand     78000000  \n",
       "16320                    Thailand     75000000  \n",
       "15891                      Mexico     73000000  \n",
       "16105        United Arab Emirates     69000000  \n",
       "16276                    Thailand     69000000  \n",
       "16259                    Thailand     69000000  \n",
       "16256                    Thailand     68000000  \n",
       "15989        United Arab Emirates     67000000  \n",
       "16243                    Thailand     66000000  "
      ]
     },
     "execution_count": 16,
     "metadata": {},
     "output_type": "execute_result"
    }
   ],
   "source": [
    "df[df['Importaciones']==True].sort_values('valor total', ascending = False).head(10)"
   ]
  },
  {
   "cell_type": "markdown",
   "id": "75da640b-af7a-4109-bff8-01f75aa132e6",
   "metadata": {},
   "source": [
    "Como se puede observar, las 10 rutas más demandas de acuerdo con sus flujos de IMPORTACIONES son las siguientes:\n",
    "\n",
    "1)China-EAU\n",
    "2)China-Tailandia\n",
    "3)China-Tailandia (2)\n",
    "4)España-México\n",
    "5)Surcorea-EAU\n",
    "6)Singapur-Tailandia\n",
    "7)Malasia-Tailandia\n",
    "8)Malasia-Tailandia(2)\n",
    "9)China-EAU\n",
    "10)Malasia-Tailandia(3)"
   ]
  },
  {
   "cell_type": "code",
   "execution_count": 17,
   "id": "ba59a575-64d7-4575-b0bf-66476924245e",
   "metadata": {},
   "outputs": [
    {
     "data": {
      "text/html": [
       "<div>\n",
       "<style scoped>\n",
       "    .dataframe tbody tr th:only-of-type {\n",
       "        vertical-align: middle;\n",
       "    }\n",
       "\n",
       "    .dataframe tbody tr th {\n",
       "        vertical-align: top;\n",
       "    }\n",
       "\n",
       "    .dataframe thead th {\n",
       "        text-align: right;\n",
       "    }\n",
       "</style>\n",
       "<table border=\"1\" class=\"dataframe\">\n",
       "  <thead>\n",
       "    <tr style=\"text-align: right;\">\n",
       "      <th></th>\n",
       "      <th>Importaciones</th>\n",
       "      <th>Exportaciones</th>\n",
       "      <th>rutas</th>\n",
       "      <th>origen</th>\n",
       "      <th>destino</th>\n",
       "      <th>valor total</th>\n",
       "    </tr>\n",
       "    <tr>\n",
       "      <th>register_id</th>\n",
       "      <th></th>\n",
       "      <th></th>\n",
       "      <th></th>\n",
       "      <th></th>\n",
       "      <th></th>\n",
       "      <th></th>\n",
       "    </tr>\n",
       "  </thead>\n",
       "  <tbody>\n",
       "    <tr>\n",
       "      <th>5646</th>\n",
       "      <td>False</td>\n",
       "      <td>True</td>\n",
       "      <td>Sea</td>\n",
       "      <td>France</td>\n",
       "      <td>USA</td>\n",
       "      <td>285000000</td>\n",
       "    </tr>\n",
       "    <tr>\n",
       "      <th>5502</th>\n",
       "      <td>False</td>\n",
       "      <td>True</td>\n",
       "      <td>Road</td>\n",
       "      <td>Netherlands</td>\n",
       "      <td>Belgium</td>\n",
       "      <td>229000000</td>\n",
       "    </tr>\n",
       "    <tr>\n",
       "      <th>6098</th>\n",
       "      <td>False</td>\n",
       "      <td>True</td>\n",
       "      <td>Road</td>\n",
       "      <td>France</td>\n",
       "      <td>Belgium</td>\n",
       "      <td>148000000</td>\n",
       "    </tr>\n",
       "    <tr>\n",
       "      <th>6154</th>\n",
       "      <td>False</td>\n",
       "      <td>True</td>\n",
       "      <td>Road</td>\n",
       "      <td>France</td>\n",
       "      <td>Belgium</td>\n",
       "      <td>142000000</td>\n",
       "    </tr>\n",
       "    <tr>\n",
       "      <th>814</th>\n",
       "      <td>False</td>\n",
       "      <td>True</td>\n",
       "      <td>Air</td>\n",
       "      <td>China</td>\n",
       "      <td>Mexico</td>\n",
       "      <td>140000000</td>\n",
       "    </tr>\n",
       "    <tr>\n",
       "      <th>6008</th>\n",
       "      <td>False</td>\n",
       "      <td>True</td>\n",
       "      <td>Sea</td>\n",
       "      <td>France</td>\n",
       "      <td>United Kingdom</td>\n",
       "      <td>128000000</td>\n",
       "    </tr>\n",
       "    <tr>\n",
       "      <th>807</th>\n",
       "      <td>False</td>\n",
       "      <td>True</td>\n",
       "      <td>Air</td>\n",
       "      <td>China</td>\n",
       "      <td>Mexico</td>\n",
       "      <td>127000000</td>\n",
       "    </tr>\n",
       "    <tr>\n",
       "      <th>5980</th>\n",
       "      <td>False</td>\n",
       "      <td>True</td>\n",
       "      <td>Sea</td>\n",
       "      <td>France</td>\n",
       "      <td>United Kingdom</td>\n",
       "      <td>127000000</td>\n",
       "    </tr>\n",
       "    <tr>\n",
       "      <th>783</th>\n",
       "      <td>False</td>\n",
       "      <td>True</td>\n",
       "      <td>Air</td>\n",
       "      <td>China</td>\n",
       "      <td>Mexico</td>\n",
       "      <td>116000000</td>\n",
       "    </tr>\n",
       "    <tr>\n",
       "      <th>6036</th>\n",
       "      <td>False</td>\n",
       "      <td>True</td>\n",
       "      <td>Sea</td>\n",
       "      <td>France</td>\n",
       "      <td>United Kingdom</td>\n",
       "      <td>109000000</td>\n",
       "    </tr>\n",
       "  </tbody>\n",
       "</table>\n",
       "</div>"
      ],
      "text/plain": [
       "             Importaciones  Exportaciones rutas       origen         destino  \\\n",
       "register_id                                                                    \n",
       "5646                 False           True   Sea       France             USA   \n",
       "5502                 False           True  Road  Netherlands         Belgium   \n",
       "6098                 False           True  Road       France         Belgium   \n",
       "6154                 False           True  Road       France         Belgium   \n",
       "814                  False           True   Air        China          Mexico   \n",
       "6008                 False           True   Sea       France  United Kingdom   \n",
       "807                  False           True   Air        China          Mexico   \n",
       "5980                 False           True   Sea       France  United Kingdom   \n",
       "783                  False           True   Air        China          Mexico   \n",
       "6036                 False           True   Sea       France  United Kingdom   \n",
       "\n",
       "             valor total  \n",
       "register_id               \n",
       "5646           285000000  \n",
       "5502           229000000  \n",
       "6098           148000000  \n",
       "6154           142000000  \n",
       "814            140000000  \n",
       "6008           128000000  \n",
       "807            127000000  \n",
       "5980           127000000  \n",
       "783            116000000  \n",
       "6036           109000000  "
      ]
     },
     "execution_count": 17,
     "metadata": {},
     "output_type": "execute_result"
    }
   ],
   "source": [
    "df[df['Exportaciones']==True].sort_values('valor total', ascending=False).head(10)"
   ]
  },
  {
   "cell_type": "markdown",
   "id": "7a242490-4029-47d2-8873-71b0fa8c6530",
   "metadata": {},
   "source": [
    "Las 10 rutas más demandadas de acuerdo con sus flujos de EXPORTACIONES son las siguientes:\n",
    "1)Francia-EEUU\n",
    "2)Holanda-Bélgica\n",
    "3)Francia-Bélgica\n",
    "4)Francia-Bélgica(2)\n",
    "5)China-México\n",
    "6)Francia-UK\n",
    "7)China-México(2)\n",
    "8)Francia-UK(2)\n",
    "9)China-México(3)\n",
    "10)Francia-Uk(3)"
   ]
  },
  {
   "cell_type": "markdown",
   "id": "5c7886f0-17e9-4ecc-8f3b-4c138745eb90",
   "metadata": {},
   "source": [
    "MEDIOS DE TRANSPORTES UTILIZADOS"
   ]
  },
  {
   "cell_type": "code",
   "execution_count": 18,
   "id": "6503e6ad-91da-4291-8f11-9498cdd10783",
   "metadata": {},
   "outputs": [],
   "source": [
    "importaciones = datos['direction']==\"Imports\""
   ]
  },
  {
   "cell_type": "code",
   "execution_count": 19,
   "id": "482f604d-ffc7-4009-bec1-45008d078b76",
   "metadata": {},
   "outputs": [],
   "source": [
    "exportaciones = datos['direction']==\"Exports\""
   ]
  },
  {
   "cell_type": "code",
   "execution_count": 20,
   "id": "3b1b98f6-3870-450d-aac8-62fd8f40d1e6",
   "metadata": {},
   "outputs": [],
   "source": [
    "df1 = pd.DataFrame()"
   ]
  },
  {
   "cell_type": "code",
   "execution_count": 21,
   "id": "e598e7d3-d3b2-40f1-b389-8d3e1ee9510f",
   "metadata": {},
   "outputs": [
    {
     "name": "stdout",
     "output_type": "stream",
     "text": [
      "             Importaciones  Exportaciones medio de transporte\n",
      "register_id                                                  \n",
      "1                    False           True                 Sea\n",
      "2                    False           True                 Sea\n",
      "3                    False           True                 Sea\n",
      "4                    False           True                 Sea\n",
      "5                    False           True                 Sea\n",
      "...                    ...            ...                 ...\n",
      "19052                 True          False                 Sea\n",
      "19053                 True          False                 Sea\n",
      "19054                 True          False                 Sea\n",
      "19055                 True          False                 Sea\n",
      "19056                 True          False                 Sea\n",
      "\n",
      "[19056 rows x 3 columns]\n"
     ]
    }
   ],
   "source": [
    "df1 ['Importaciones']=importaciones\n",
    "df1 ['Exportaciones']= exportaciones\n",
    "df1 ['medio de transporte']= rutas\n",
    "print(df1)"
   ]
  },
  {
   "cell_type": "code",
   "execution_count": 22,
   "id": "8da8b8a0-18e0-4553-a8da-df5670dfb87e",
   "metadata": {},
   "outputs": [
    {
     "data": {
      "text/plain": [
       "<seaborn.axisgrid.FacetGrid at 0x2350ce11a30>"
      ]
     },
     "execution_count": 22,
     "metadata": {},
     "output_type": "execute_result"
    },
    {
     "data": {
      "text/plain": [
       "<Figure size 1152x432 with 0 Axes>"
      ]
     },
     "metadata": {},
     "output_type": "display_data"
    },
    {
     "data": {
      "image/png": "[encoded data removed]",
      "text/plain": [
       "<Figure size 360x360 with 1 Axes>"
      ]
     },
     "metadata": {
      "needs_background": "light"
     },
     "output_type": "display_data"
    }
   ],
   "source": [
    "#creamos un panoramo del uso de los medios de tranportes tanto para las imoprtaciones como para las exportaciones\n",
    "plt.figure(figsize=(16,6))\n",
    "\n",
    "sns.catplot(x='transport_mode', data=datos,kind='count')"
   ]
  },
  {
   "cell_type": "markdown",
   "id": "e2947c51-72e0-4de2-891e-359edad906e4",
   "metadata": {},
   "source": [
    "Lo que podemos ver es que el medio de trasnporte que más utliza la empresa es por medio del mar, seguido del ferrocarril, carreteras y finalmente por aire. Pero esto es para todas las operaciones que realiza la empresa, es decir, tanto para importaciones como para exportaciones. "
   ]
  },
  {
   "cell_type": "code",
   "execution_count": 23,
   "id": "7faada86-57d3-49dc-ae16-e40a64392c33",
   "metadata": {},
   "outputs": [
    {
     "data": {
      "text/html": [
       "<div>\n",
       "<style scoped>\n",
       "    .dataframe tbody tr th:only-of-type {\n",
       "        vertical-align: middle;\n",
       "    }\n",
       "\n",
       "    .dataframe tbody tr th {\n",
       "        vertical-align: top;\n",
       "    }\n",
       "\n",
       "    .dataframe thead th {\n",
       "        text-align: right;\n",
       "    }\n",
       "</style>\n",
       "<table border=\"1\" class=\"dataframe\">\n",
       "  <thead>\n",
       "    <tr style=\"text-align: right;\">\n",
       "      <th></th>\n",
       "      <th>Importaciones</th>\n",
       "      <th>Exportaciones</th>\n",
       "    </tr>\n",
       "    <tr>\n",
       "      <th>medio de transporte</th>\n",
       "      <th></th>\n",
       "      <th></th>\n",
       "    </tr>\n",
       "  </thead>\n",
       "  <tbody>\n",
       "    <tr>\n",
       "      <th>Sea</th>\n",
       "      <td>8434</td>\n",
       "      <td>8434</td>\n",
       "    </tr>\n",
       "    <tr>\n",
       "      <th>Rail</th>\n",
       "      <td>2780</td>\n",
       "      <td>2780</td>\n",
       "    </tr>\n",
       "    <tr>\n",
       "      <th>Road</th>\n",
       "      <td>2149</td>\n",
       "      <td>2149</td>\n",
       "    </tr>\n",
       "    <tr>\n",
       "      <th>Air</th>\n",
       "      <td>2045</td>\n",
       "      <td>2045</td>\n",
       "    </tr>\n",
       "  </tbody>\n",
       "</table>\n",
       "</div>"
      ],
      "text/plain": [
       "                     Importaciones  Exportaciones\n",
       "medio de transporte                              \n",
       "Sea                           8434           8434\n",
       "Rail                          2780           2780\n",
       "Road                          2149           2149\n",
       "Air                           2045           2045"
      ]
     },
     "execution_count": 23,
     "metadata": {},
     "output_type": "execute_result"
    }
   ],
   "source": [
    "df1[df1['Exportaciones']==True].groupby(['medio de transporte']).count().sort_values('Exportaciones', ascending = False).head(4)\n",
    "                                    #  freq = df.groupby(['A']).count() "
   ]
  },
  {
   "cell_type": "code",
   "execution_count": 24,
   "id": "123fa685-54f7-4b02-921f-918a545050dd",
   "metadata": {},
   "outputs": [
    {
     "data": {
      "text/plain": [
       "Text(0.5, 0, 'frecuencia de medios de transporte DE EXPORTACIONES')"
      ]
     },
     "execution_count": 24,
     "metadata": {},
     "output_type": "execute_result"
    },
    {
     "data": {
      "image/png": "[encoded data removed]",
      "text/plain": [
       "<Figure size 432x288 with 1 Axes>"
      ]
     },
     "metadata": {
      "needs_background": "light"
     },
     "output_type": "display_data"
    }
   ],
   "source": [
    "df1[df1['Exportaciones']==True].groupby(['medio de transporte']).count().sort_values('Exportaciones', ascending = False).head(3).plot(kind='barh')\n",
    "plt.xlabel('frecuencia de medios de transporte DE EXPORTACIONES')"
   ]
  },
  {
   "cell_type": "markdown",
   "id": "41131603-fb3c-49c3-847f-f4241b9042ea",
   "metadata": {},
   "source": [
    "Como podemos observar y dado que la tabla anterior es válida para las exportaciones, podemos saber con certeza que, por medio del mar se hacen 8434 exportaciones, por trenes se hacen 2780 exportaciones y por carretera se hace 2149 exportaciones."
   ]
  },
  {
   "cell_type": "markdown",
   "id": "cb18c634-3e18-4187-8152-145b9c9a1be2",
   "metadata": {},
   "source": [
    "LOS 3 MEDIOS DE TRANSPORTE DE LAS EXPORTACIONES"
   ]
  },
  {
   "cell_type": "markdown",
   "id": "03b3aa3c-4408-4f80-8048-8a5fd28b001f",
   "metadata": {},
   "source": [
    "Como podemos observar los 3 principales medios de transporte de las EXPORTACIONES de Synergy Logistics se hacen por:\n",
    "\n",
    "1)Mar \n",
    "2)Trenes \n",
    "3)Carreteras"
   ]
  },
  {
   "cell_type": "markdown",
   "id": "945353fe-5a1d-4081-9a51-91d99dcb3d42",
   "metadata": {},
   "source": [
    "LOS 3 MEDIOS DE TRANPOSRTE DE LAS IMPORTACIONES"
   ]
  },
  {
   "cell_type": "code",
   "execution_count": 25,
   "id": "6a37ed7e-0c0c-4870-9b00-1087a9986ec8",
   "metadata": {},
   "outputs": [
    {
     "data": {
      "text/plain": [
       "Text(0.5, 0, 'frecuencia de medios de transporte DE IMPORTACIONES')"
      ]
     },
     "execution_count": 25,
     "metadata": {},
     "output_type": "execute_result"
    },
    {
     "data": {
      "image/png": "[encoded data removed]",
      "text/plain": [
       "<Figure size 432x288 with 1 Axes>"
      ]
     },
     "metadata": {
      "needs_background": "light"
     },
     "output_type": "display_data"
    }
   ],
   "source": [
    "df1[df1['Importaciones']==True].groupby(['medio de transporte']).count().sort_values('Importaciones', ascending = False).head(3).plot(kind='barh')\n",
    "plt.xlabel('frecuencia de medios de transporte DE IMPORTACIONES')\n",
    "                                    #  freq = df.groupby(['A']).count() "
   ]
  },
  {
   "cell_type": "code",
   "execution_count": 26,
   "id": "18974651-8c55-4757-a1ac-cd871ff3e3e6",
   "metadata": {},
   "outputs": [
    {
     "data": {
      "text/html": [
       "<div>\n",
       "<style scoped>\n",
       "    .dataframe tbody tr th:only-of-type {\n",
       "        vertical-align: middle;\n",
       "    }\n",
       "\n",
       "    .dataframe tbody tr th {\n",
       "        vertical-align: top;\n",
       "    }\n",
       "\n",
       "    .dataframe thead th {\n",
       "        text-align: right;\n",
       "    }\n",
       "</style>\n",
       "<table border=\"1\" class=\"dataframe\">\n",
       "  <thead>\n",
       "    <tr style=\"text-align: right;\">\n",
       "      <th></th>\n",
       "      <th>Importaciones</th>\n",
       "      <th>Exportaciones</th>\n",
       "    </tr>\n",
       "    <tr>\n",
       "      <th>medio de transporte</th>\n",
       "      <th></th>\n",
       "      <th></th>\n",
       "    </tr>\n",
       "  </thead>\n",
       "  <tbody>\n",
       "    <tr>\n",
       "      <th>Sea</th>\n",
       "      <td>2254</td>\n",
       "      <td>2254</td>\n",
       "    </tr>\n",
       "    <tr>\n",
       "      <th>Rail</th>\n",
       "      <td>601</td>\n",
       "      <td>601</td>\n",
       "    </tr>\n",
       "    <tr>\n",
       "      <th>Road</th>\n",
       "      <td>449</td>\n",
       "      <td>449</td>\n",
       "    </tr>\n",
       "    <tr>\n",
       "      <th>Air</th>\n",
       "      <td>344</td>\n",
       "      <td>344</td>\n",
       "    </tr>\n",
       "  </tbody>\n",
       "</table>\n",
       "</div>"
      ],
      "text/plain": [
       "                     Importaciones  Exportaciones\n",
       "medio de transporte                              \n",
       "Sea                           2254           2254\n",
       "Rail                           601            601\n",
       "Road                           449            449\n",
       "Air                            344            344"
      ]
     },
     "execution_count": 26,
     "metadata": {},
     "output_type": "execute_result"
    }
   ],
   "source": [
    "df1[df1['Importaciones']==True].groupby(['medio de transporte']).count().sort_values('Importaciones', ascending = False).head(4)\n",
    "                                    #  freq = df.groupby(['A']).count() "
   ]
  },
  {
   "cell_type": "markdown",
   "id": "0ffb5b20-a16e-44ad-a9b3-d6e9daa5fac4",
   "metadata": {},
   "source": [
    "Como podemos observar, en las IMOPRTACIONES (solo la columnas de las importaciones es válidos) se realizan 2254 por mar, 601 por trenes y 449 por carreteras. Siendo el 1)mar, 2)trenes y 3)carreteras, los tres principales medios de tranpsorte de las importaciones que hace la empresa Synergy Logistics. "
   ]
  },
  {
   "cell_type": "markdown",
   "id": "5dff7c3c-387d-466e-a369-8600a90ba033",
   "metadata": {},
   "source": [
    "El medio que pueden reducir son las que se hacen por el aire, es decir, dado que este medio de transporte es muy poco solicitado, en comparación con el mar, los trenes o las carreteras, es posible que la empresa oueda concentrarse exclusivamente en los estos tres primeros. "
   ]
  },
  {
   "cell_type": "markdown",
   "id": "c3a5287e-10a5-4625-ba99-d0674426c149",
   "metadata": {},
   "source": [
    "VALOR DE LAS IMOPRTACIONES Y EXPORTACIONES (EL VALOR DE INTERÉS ES AQUE SE ENCUENTRAN EN AMBOS)"
   ]
  },
  {
   "cell_type": "code",
   "execution_count": 27,
   "id": "f148df0b-e5d3-4789-9129-3655c6836abf",
   "metadata": {},
   "outputs": [],
   "source": [
    "valorcompleto = datos['total_value']"
   ]
  },
  {
   "cell_type": "code",
   "execution_count": 28,
   "id": "ac229e6b-b744-43af-8168-1e7664e3b4c5",
   "metadata": {},
   "outputs": [],
   "source": [
    "pais_que_nos_contrata = datos['origin']"
   ]
  },
  {
   "cell_type": "code",
   "execution_count": 29,
   "id": "88bbec48-265a-4606-92f4-9b71ece8377f",
   "metadata": {},
   "outputs": [],
   "source": [
    "df3 = pd.DataFrame()"
   ]
  },
  {
   "cell_type": "code",
   "execution_count": 30,
   "id": "a513ff29-60dd-4b68-a697-b5a3b465ad39",
   "metadata": {},
   "outputs": [
    {
     "name": "stdout",
     "output_type": "stream",
     "text": [
      "             valor de las transacciones Pais contratista\n",
      "register_id                                             \n",
      "1                              33000000            Japan\n",
      "2                              16000000            Japan\n",
      "3                              29000000            Japan\n",
      "4                              14000000            Japan\n",
      "5                              17000000            Japan\n",
      "...                                 ...              ...\n",
      "19052                           1000000            Japan\n",
      "19053                           2000000         Malaysia\n",
      "19054                          33000000         Malaysia\n",
      "19055                          13000000         Malaysia\n",
      "19056                          30000000         Malaysia\n",
      "\n",
      "[19056 rows x 2 columns]\n"
     ]
    }
   ],
   "source": [
    "df3['valor de las transacciones'] = valorcompleto\n",
    "df3['Pais contratista'] = pais_que_nos_contrata\n",
    "print(df3)"
   ]
  },
  {
   "cell_type": "code",
   "execution_count": 31,
   "id": "427b97cb-71a6-420e-aa88-8e676de3549f",
   "metadata": {},
   "outputs": [
    {
     "data": {
      "text/plain": [
       "<AxesSubplot:ylabel='Pais contratista'>"
      ]
     },
     "execution_count": 31,
     "metadata": {},
     "output_type": "execute_result"
    },
    {
     "data": {
      "image/png": "[encoded data removed]",
      "text/plain": [
       "<Figure size 432x288 with 1 Axes>"
      ]
     },
     "metadata": {
      "needs_background": "light"
     },
     "output_type": "display_data"
    }
   ],
   "source": [
    "df3.groupby(['Pais contratista']).count().sort_values('valor de las transacciones', ascending = False).plot(kind='barh')\n",
    "                                    #  freq = df.groupby(['A']).count() "
   ]
  },
  {
   "cell_type": "markdown",
   "id": "ac2125b1-8301-4fd0-bb24-4116d0f039bd",
   "metadata": {},
   "source": [
    "En la anterior gráfica es posible observar el número de transacciones que realiza cada país. "
   ]
  },
  {
   "cell_type": "code",
   "execution_count": 37,
   "id": "198385e6-f688-4586-89ae-5ff4132e25ea",
   "metadata": {},
   "outputs": [
    {
     "data": {
      "text/plain": [
       "valor de las transacciones    19056\n",
       "dtype: int64"
      ]
     },
     "execution_count": 37,
     "metadata": {},
     "output_type": "execute_result"
    }
   ],
   "source": [
    "df3.groupby(['Pais contratista']).count().sort_values('valor de las transacciones', ascending = False).sum()\n",
    "                                    #  freq = df.groupby(['A']).count() "
   ]
  },
  {
   "cell_type": "code",
   "execution_count": 57,
   "id": "10e3a585-e9e4-4407-80ea-c93814c2a876",
   "metadata": {},
   "outputs": [
    {
     "data": {
      "text/plain": [
       "<AxesSubplot:ylabel='valor de las transacciones'>"
      ]
     },
     "execution_count": 57,
     "metadata": {},
     "output_type": "execute_result"
    },
    {
     "data": {
      "text/plain": [
       "<Figure size 2664x720 with 0 Axes>"
      ]
     },
     "metadata": {},
     "output_type": "display_data"
    },
    {
     "data": {
      "image/png": "[encoded data removed]",
      "text/plain": [
       "<Figure size 720x3600 with 1 Axes>"
      ]
     },
     "metadata": {},
     "output_type": "display_data"
    }
   ],
   "source": [
    "plt.figure(figsize=(37,10))\n",
    "df3.groupby(['Pais contratista']).count().sort_values('valor de las transacciones', ascending = False).plot(kind='pie', subplots=True, autopct=\"%0.1f %%\", figsize=(10,50)).sum()\n",
    "                                    #  freq = df.groupby(['A']).count() "
   ]
  },
  {
   "cell_type": "markdown",
   "id": "e07439fb-c2c2-4a40-850d-21e9082e177b",
   "metadata": {},
   "source": [
    "Nuestra base de datos indica que hubo un total de 19056 transacciones. En la anaterior tabla podemos observar la participación de cada país en el total de transacciones, siendo EU y China, los participantes más destacados de la lista. "
   ]
  },
  {
   "cell_type": "code",
   "execution_count": 33,
   "id": "f8335bd7-d608-4290-a253-c74ff5192c02",
   "metadata": {},
   "outputs": [
    {
     "name": "stdout",
     "output_type": "stream",
     "text": [
      "valor de las transacciones                                         215691298000\n",
      "Pais contratista              JapanJapanJapanJapanJapanJapanJapanJapanJapanJ...\n",
      "dtype: object\n"
     ]
    }
   ],
   "source": [
    "valor_total = df3.sum()\n",
    "print(valor_total)\n",
    "ventasmundiales = 215691298000\n",
    "\n",
    "                                    #  freq = df.groupby(['A']).count() "
   ]
  },
  {
   "cell_type": "code",
   "execution_count": 34,
   "id": "60979b0d-d691-47a0-ae9a-0af5027c6c2a",
   "metadata": {},
   "outputs": [
    {
     "name": "stdout",
     "output_type": "stream",
     "text": [
      "172553038400.0\n"
     ]
    }
   ],
   "source": [
    "ochenta_porciento = (80*ventasmundiales)/100\n",
    "print(ochenta_porciento)"
   ]
  },
  {
   "cell_type": "code",
   "execution_count": 35,
   "id": "20880066-45a9-4476-8b36-784820bc6193",
   "metadata": {},
   "outputs": [
    {
     "name": "stdout",
     "output_type": "stream",
     "text": [
      "El 80% del valor de las transacciones es de:  43138259600.0\n"
     ]
    }
   ],
   "source": [
    "print(\"El 80% del valor de las transacciones es de: \", ventasmundiales-ochenta_porciento)"
   ]
  },
  {
   "cell_type": "markdown",
   "id": "57b11262-70d8-4ab5-935b-c97790f948b2",
   "metadata": {},
   "source": [
    "Como podemo ver en la gráfica de pastel, las participaciones más importantes en la generación de valor de las transacciones de las imoprtaciones y exportaciones se encuentra en países:\n",
    "\n",
    "1)China (11.9%)\n",
    "2)EUA (9.7%)\n",
    "3)Japón (8.9%)\n",
    "4)Alemania (8.7%)\n",
    "5)Corea del Sur (6.8%)\n",
    "6)México (6%)\n",
    "7)Francia (5.7%)\n",
    "8)Australia (5.1%)\n",
    "9)RU (4.9%)\n",
    "10) Rusia (4.2%)\n",
    "11) Holanda (4.2%)\n",
    "12) Canadá (3.4%)\n",
    "13) Italia (3.4%)\n",
    "\n",
    "Estos paises generan más del 80% del valor de las importaciones y exportacionesos. Y son los países en los que se debería de concentrar Synergye Logistcis. "
   ]
  },
  {
   "cell_type": "markdown",
   "id": "9aa22a77-6e0d-46cf-9bca-045fc07d421b",
   "metadata": {},
   "source": [
    "¿Cuál opción u opciones es conveniente implementar como base en la estrategia?"
   ]
  },
  {
   "cell_type": "code",
   "execution_count": 1,
   "id": "e0233a6f-cea6-4db5-a1ca-f689e1306a30",
   "metadata": {},
   "outputs": [
    {
     "data": {
      "image/jpeg": "[encoded data removed]",
      "text/plain": [
       "<IPython.core.display.Image object>"
      ]
     },
     "execution_count": 1,
     "metadata": {},
     "output_type": "execute_result"
    }
   ],
   "source": [
    "from IPython.display import Image\n",
    "Image(\"D:\\Descargas\\EMTECH\\imagenjupyuter.jpg\")"
   ]
  },
  {
   "cell_type": "markdown",
   "id": "9dae4e18-4445-468e-bf4e-1e0266af2f61",
   "metadata": {},
   "source": [
    "Como pudimos observar en nuestros resultados, las 3 opciones analizadas nos muestran las áreas de oportunidad de la empresa. Como podemos ver, las rutas más imortantes de importación de la empresa se encuentran en China (Asia), mientras que las rutas más importantes de las exportaciones, se encuentran en Europa. Es claro, entonces que Synergye Logistics invierta en infraestructura física en estas dos regiones y consolide su posición en estas latitudes geográficas. De igual forma, estas inversiones tendrían que enfocarse en el principla medio de transporte por el cual se realizan las transacciones: el mar. La empresa debe ser financiera solvente para poder mejorar la calidad su capacidad instalida en sus puertos (pues es el principal medio por donde se realizan las transacciones). Finalmente es claro que la partipación de China dentro del volumen de las exportaciones-importaciones es sumamente importante junto Estados Unidos. Ante ello, Synergye Logistcs debe afianzar política y económicamente su posición dentro del mercado Chino y estadounidense pues China y EU representan los principales clientes de Synergye Logistics. Claramente sin olvidar a otros importantes clientes como Japón, Alemania o México. \n",
    "\n",
    "Entonces es clara cúal debería de ser la estrategia de la empresa con los datos analizados, para que pueda ser una empresas eficiente y financieramente solvente:\n",
    "\n",
    "1) Fortalecer la infraestrutura física en sus rutas más importantes de exportación e importación que se encuentran en Asia y Europa. \n",
    "2) Pero a la luz de los datos encontrados, dichas inversiones físicas deberían estar encaminadas hacia el fortalecimiento de la infraestructura marítima que es el medio en donde la mayoría de las transacciones realiza la empresa. \n",
    "3) Esta estrtegia es recomendable que se realizan en los países que son los más clientes más importantes de la empresa, que en este caso son Estados Unidos y China. Es decir, al empresa debe colaborar de cerca con las autoridades económicias, jurídicas y política de estos países pero también sin olvidar a otros cleientes potenciales, como es caso de Japón o Alemania. \n",
    "\n",
    "\n",
    "Como conclusión comento que Synergye tiene muchas áreas de oportunidad con sus principales clientes, pues tanto como China como EU, están pryectados a ser las dos principales potencias económicas del mundo en el futuro cercano y por ello, es necesario que la empresa se encuentre, en ese momento, como un socio comercial importante para ambos países. Una empresa en la que pueden confiar y saber de  nuestra solvencia financiera en los mercados internacionales y soliez económica dentro del comercio internacional. La empresa, con este analisis debe tener mayor claridad sobre los pasos que se deben tomar para salvaguardar y expandir la fortaleza operativa y económica de Synergye Logistics en el mediano y largo plazo. "
   ]
  },
  {
   "cell_type": "code",
   "execution_count": 2,
   "id": "8cae538c-48ba-4a2e-882b-88a72724ae0e",
   "metadata": {},
   "outputs": [
    {
     "data": {
      "image/jpeg": "[encoded data removed]",
      "text/plain": [
       "<IPython.core.display.Image object>"
      ]
     },
     "execution_count": 2,
     "metadata": {},
     "output_type": "execute_result"
    }
   ],
   "source": [
    "from IPython.display import Image\n",
    "Image(\"D:\\Descargas\\EMTECH\\china.jpg\")"
   ]
  },
  {
   "cell_type": "code",
   "execution_count": 3,
   "id": "55d34fda-3558-4f49-a8ab-20dbc7841e37",
   "metadata": {},
   "outputs": [
    {
     "data": {
      "image/jpeg": "[encoded data removed]",
      "text/plain": [
       "<IPython.core.display.Image object>"
      ]
     },
     "execution_count": 3,
     "metadata": {},
     "output_type": "execute_result"
    }
   ],
   "source": [
    "from IPython.display import Image\n",
    "Image(\"D:\\Descargas\\EMTECH\\euu y ue.jpg\")"
   ]
  },
  {
   "cell_type": "markdown",
   "id": "f4d90f29-1253-400e-8116-e255e2ebc8b0",
   "metadata": {},
   "source": [
    "Datos:\n",
    "\n",
    "Gustavo Múzquiz Rodríguez\n",
    "gustavo.muzquiz@upaep.edu.mx\n",
    "tel 2224028472"
   ]
  }
 ],
 "metadata": {
  "kernelspec": {
   "display_name": "Python 3",
   "language": "python",
   "name": "python3"
  },
  "language_info": {
   "codemirror_mode": {
    "name": "ipython",
    "version": 3
   },
   "file_extension": ".py",
   "mimetype": "text/x-python",
   "name": "python",
   "nbconvert_exporter": "python",
   "pygments_lexer": "ipython3",
   "version": "3.8.8"
  }
 },
 "nbformat": 4,
 "nbformat_minor": 5
}
